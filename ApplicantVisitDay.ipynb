{
  "cells": [
    {
      "cell_type": "markdown",
      "metadata": {
        "id": "f65jRNmNqc9m"
      },
      "source": [
        "# Applicant Visit Day - Getting to Grips with Code\n",
        "\n",
        "Institution: Edge Hill University\n",
        "\n",
        "Version: 1.0\n",
        "    \n",
        "## Code & License\n",
        "The code and the contents of this notebook are released under the GNU GENERAL PUBLIC LICENSE, Version 3, 29 June 2007. The videos are exempt from this, please check the license provided by the video content owners if you would like to use them.\n",
        "\n",
        "## Introduction\n",
        "\n",
        "This notebook has been written to support Edge Hill University's applicant visit day. The notebook will give those students thinking about studying computer science with us, a chance to try out coding, and figure out what learning with us is really like.\n",
        "\n",
        "<br/>\n",
        "\n",
        "Programming is a practical activity. It's best to learn by doing, and by running examples at your own pace, in your own time. This means if you don't through all the material or challenges during the session - don't panic! Take your time and try to enjoy yourself.\n",
        "\n",
        "<br/>\n",
        "\n",
        "## What is Google Colab?\n",
        "Google Colab provides a software environment (this environment) you can use to execute code. This means you don't have to setup any complicated software environments for yourself - you can simply load this site and run our activities. You'll need your own Google ID to login and use this resource to its full potential. So please, sign up for a Google account if you **do not** already have one. \n",
        "\n",
        "<br/>\n",
        "\n",
        "The cell below contains a video that you can watch if unfamiliar with Google Colab. If the cell seems empty (you can't see a video), hover your mouse over the cell. A play button should appear. Click that play button, and then the video should fill the cell. The eagle eyes amongst you might realise that in the cell below I'm using Python to embed some HTML code. This loads the video directly from YouTube. But you don't need to worry about those details.\n",
        "\n",
        "<br/>\n",
        "\n",
        "Remember, you don't have to watch this now - you can always watch it in your own time.\n",
        "\n",
        "\n"
      ]
    },
    {
      "cell_type": "code",
      "execution_count": null,
      "metadata": {
        "colab": {
          "base_uri": "https://localhost:8080/",
          "height": 336
        },
        "id": "dsNCnVnLqzxh",
        "outputId": "fed1758d-d47c-4118-a4f8-40ecfbf94e13"
      },
      "outputs": [
        {
          "data": {
            "text/html": [
              "<iframe width=\"560\" height=\"315\" src=\"https://www.youtube.com/embed/inN8seMm7UI\" frameborder=\"0\" allow=\"accelerometer; autoplay; encrypted-media; gyroscope; picture-in-picture\"allowfullscreen></iframe>"
            ],
            "text/plain": [
              "<IPython.core.display.HTML object>"
            ]
          },
          "execution_count": 1,
          "metadata": {
            "tags": []
          },
          "output_type": "execute_result"
        }
      ],
      "source": [
        "# You may be wondering why there is code in this cell. This is needed to\n",
        "# to show video resources.\n",
        "#\n",
        "# But Colab notebooks weren't written with displaying videos in mind. But, \n",
        "# we can import a Python package that allows us to do this. That's what I \n",
        "# do here:\n",
        "from IPython.display import HTML\n",
        "\n",
        "# Then the code below actually shows the video. Don't worry about understanding\n",
        "# this code. I just include this explanation for the curious.\n",
        "HTML('<iframe width=\"560\" height=\"315\" \\\n",
        "src=\"https://www.youtube.com/embed/inN8seMm7UI\" frameborder=\"0\" \\\n",
        "allow=\"accelerometer; autoplay; encrypted-media; gyroscope; picture-in-picture\"\\\n",
        "allowfullscreen></iframe>')\n"
      ]
    },
    {
      "cell_type": "markdown",
      "metadata": {
        "id": "CpYr6QGTq7DN"
      },
      "source": [
        "# Using This Resource\n",
        "\n",
        "I advise that you step through each cell in this notebook slowly, at your own pace. Once you understand each cell, move on. This is important as each cell builds upon the next. Activities are provided near the end of the notebook. Enjoy!\n",
        "\n",
        "<br/>\n",
        "\n",
        "Remember, each cell is supposed to be executed in turn from the top to the bottom of this notebook. So, keep that in mind!"
      ]
    },
    {
      "cell_type": "markdown",
      "metadata": {
        "id": "5qSAhzserMM6"
      },
      "source": [
        "## 0. The basics\n",
        "\n",
        "Each cell in the Colab can contain an executable piece of Python code. When we execute a cell, the results of that execute are remembered. Consider the example below. Read it, then execute the cell."
      ]
    },
    {
      "cell_type": "code",
      "execution_count": null,
      "metadata": {
        "id": "Dayl7rF6rd8y"
      },
      "outputs": [],
      "source": [
        "x = 0\n",
        "y = 0\n",
        "\n",
        "z = x + y\n",
        "\n",
        "print(z)"
      ]
    },
    {
      "cell_type": "markdown",
      "metadata": {
        "id": "Zq-wtiodrk8c"
      },
      "source": [
        "This is some pretty straightforward code that sets $z$ equal to the value of $x+y$. Since both $x$ and $y$ are defined to be zero, then $z=0$. Suppose we then write the following code. Read it, then execute the cell. What output do you expect?"
      ]
    },
    {
      "cell_type": "code",
      "execution_count": null,
      "metadata": {
        "id": "s0gjTtrKr6co"
      },
      "outputs": [],
      "source": [
        "x = 1\n",
        "\n",
        "print(z)"
      ]
    },
    {
      "cell_type": "markdown",
      "metadata": {
        "id": "hcNDXEnpsPw1"
      },
      "source": [
        "Does it surprise you that $z$ is still zero? It shouldn't - just because we set the value of $x$ to 1, doesn't mean that change is propagated to $z$. We have to explicitly update $z$ to achieve that. Let's try to do that in the cell that follows. Read it, then execute it when ready."
      ]
    },
    {
      "cell_type": "code",
      "execution_count": null,
      "metadata": {
        "id": "UYOKAAmfskPx"
      },
      "outputs": [],
      "source": [
        "z = x + y\n",
        "\n",
        "print(z)"
      ]
    },
    {
      "cell_type": "markdown",
      "metadata": {
        "id": "PsK7k6rosmnP"
      },
      "source": [
        "You can see here that this cell has \"remembered\" that we set $x=1$ in a previous cell. That's because the code we write in cells, and the assignments they define, are stored in memory. Look up at the top right of the browser screen - can you see the Colab telling you your Random Access Memory (RAM) usage? \n",
        "\n",
        "<br/>\n",
        "\n",
        "It also shows your disk usage too! Ok, back to this example. What should be clear from this example, is that the order in which we execute cells matters. It is also important that we define all of the items we refer to in cells. For example, try to run the cell below. It will report an error - do you understand why?"
      ]
    },
    {
      "cell_type": "code",
      "execution_count": null,
      "metadata": {
        "id": "_2-Reoy8tbbB"
      },
      "outputs": [],
      "source": [
        "z = x + y - a\n",
        "print(z)"
      ]
    },
    {
      "cell_type": "markdown",
      "metadata": {
        "id": "smGAhhTltkUY"
      },
      "source": [
        "We get a “name error” here, because we use a term $a$ which we've not introduced before, nor defined. Computers do not run on magic. They only know the things that we tell them. Thus, since I didn't say what 'a' was, or what it equals, the calculation could not be completed.\n",
        "\n",
        "<br>\n",
        "\n",
        "Get use to error messages such as this. Encountering them is an important part of learning to program. The question is, how will you respond error messages - panic? Try to react constructively – ask “what is it I don't understand”, “why did this happen”, “what does it mean - what is the computer trying to tell me”. In this case it was clear, \"a is not defined\". Sometimes error messages are less clear, so be prepared for that. Confusion is entirely normal. I wasn't born knowing this stuff :)\n"
      ]
    },
    {
      "cell_type": "markdown",
      "metadata": {
        "id": "kENOx68hrE9T"
      },
      "source": [
        "## 1. Comments\n",
        "\n",
        "Comments are used to help describe the code we write. Why do we needs comments in our code? There are a variety of important reasons.\n",
        "* To explain how it works.\n",
        "* To make it easier to read.\n",
        "* To help make the code easier to maintain, for those who didn’t write it.\n",
        "* It is important to write informative, succinct comments.\n",
        "* There are two types of comment in Python:\n",
        "  * In-line comments\n",
        "  * And Block comments\n",
        "\n",
        "<br/>\n",
        "\n",
        "The hash (#) symbol is used to start a comment. \n",
        "\n",
        "<br/>\n",
        "\n",
        "An **in-line comment** explains a single line of code. It may explain the purpose of the line or provide important information and pointers. Such comments should be used only when required. \n",
        "\n",
        "<br/>\n",
        "\n",
        "A **block comment** explains one or more lines of code. Blocks can spread over multiple lines if required, depending on the complexity of the code. If a comment needs more than one paragraph, split the comment up using an empty comment line. \n",
        "\n",
        "\n",
        "Follow the cells below and execute them as you go. The code cells will contain comments that explain how/why things are done. Looking through the cells for yourself will get you into the habit of reading code early on.\n"
      ]
    },
    {
      "cell_type": "code",
      "execution_count": null,
      "metadata": {
        "id": "navyED1xvgcu"
      },
      "outputs": [],
      "source": [
        "# This is a single line comment.\n",
        "\n",
        "# Comment that explains the code below, were we simply add two numbers.\n",
        "number_1 = 10\n",
        "number_2 = 15\n",
        "result = number_1 + number_2\n",
        "\n",
        "# Now we have a multiline comment. I often use these to explain code that\n",
        "# may not be clear. Ideally, we keep such comments succinct. However, I'll \n",
        "# break that rule for educational purposes in this notebook.\n",
        "#\n",
        "# Below is some code that checks if a character is in text. If it is\n",
        "# present, it returns the index corresponding to the position in the text\n",
        "# where the character was found. For example, if we have the following text:\n",
        "#\n",
        "# \"Amin\"\n",
        "#\n",
        "# Then we can view the text as a collection of characters with specific \n",
        "# positions, or indexes, in the text, e.g.\n",
        "#\n",
        "# index:   0  1  2 3\n",
        "#          |  |  | |\n",
        "#          v  v  v v\n",
        "#        \" A  m  i n\" \n",
        "#\n",
        "# So, if asking for the index of the character \"A\" in the text, the index\n",
        "# will be zero.\n",
        "text = \"Amin\"\n",
        "print(\"Position of A: \", text.find('A'))\n",
        "print(\"Position of m: \", text.find('m'))\n",
        "print(\"Position of i: \", text.find('i'))\n",
        "print(\"Position of n: \", text.find('n'))\n"
      ]
    },
    {
      "cell_type": "markdown",
      "metadata": {
        "id": "pdPVZaY1v4B5"
      },
      "source": [
        "Can you comment the code below? What would your comments say? The answer is provided in a few cells down - but don't look right away! Don't worry about not understanding everything the code does - just read what is says, even read it out-loud in English. Maybe running the code and seeing the output, will help you understand how its written."
      ]
    },
    {
      "cell_type": "code",
      "execution_count": null,
      "metadata": {
        "id": "zJoTruRJwKS1"
      },
      "outputs": [],
      "source": [
        "number_1 = 0\n",
        "number_2 = 10\n",
        "\n",
        "while number_1 < number_2:\n",
        "  number_1 = number_1 + 1\n",
        "  \n",
        "  if number_1 % 2 == 0:\n",
        "    \n",
        "    print(\"number_1 now even:\", number_1)"
      ]
    },
    {
      "cell_type": "markdown",
      "metadata": {
        "id": "A8qWMXNpwOvX"
      },
      "source": [
        "My comments are below. Different people will write comments in different ways. That's ok, so long as the key pieces of information are conveyed."
      ]
    },
    {
      "cell_type": "code",
      "execution_count": null,
      "metadata": {
        "id": "Ertw-HRHwTyI"
      },
      "outputs": [],
      "source": [
        "# Some simple code that prints out the even numbers between\n",
        "# number_1 and number_2. The values of these can be altered\n",
        "# as required.\n",
        "number_1 = -1\n",
        "number_2 = 10\n",
        "\n",
        "# While number_1 is less than number_2\n",
        "while number_1 < number_2:\n",
        "  number_1 = number_1 + 1 # increment the value of number_1 by 1.\n",
        "  \n",
        "  # If number_1 is even, print that out.\n",
        "  if number_1 % 2 == 0:\n",
        "    \n",
        "    print(\"number_1 now even:\", number_1)"
      ]
    },
    {
      "cell_type": "markdown",
      "metadata": {
        "id": "GQ48djfowg0B"
      },
      "source": [
        "Remember, there are single line and multi-line comments in Python. Here's an example of both."
      ]
    },
    {
      "cell_type": "code",
      "execution_count": null,
      "metadata": {
        "id": "jxZG_2IQwnd5"
      },
      "outputs": [],
      "source": [
        "# This is a single line comment in Python.\n",
        "\n",
        "\n",
        "'''\n",
        "This is also a multi-line comment in python.\n",
        "But we use these sorts of comments to document\n",
        "specific parts of the code. We'll address this later.\n",
        "'''"
      ]
    },
    {
      "cell_type": "markdown",
      "metadata": {
        "id": "CgMhAyLmwpFx"
      },
      "source": [
        "## Activity 1\n",
        "\n",
        "Here's a simple first activity to get you going. Write a piece of code that computes the average of the numbers 1, 2, 3, 4, 5. Print out the average and comment your code. I Python, we can use the $/$ symbol to represent division. I provide an example answer below, but you need to scroll down for it (hey, i need to make you work!)."
      ]
    },
    {
      "cell_type": "code",
      "execution_count": null,
      "metadata": {
        "id": "MuLvV-pjxCU9"
      },
      "outputs": [],
      "source": [
        "# Your awesome code here.\n"
      ]
    },
    {
      "cell_type": "markdown",
      "metadata": {
        "id": "WO0jHoGdxENb"
      },
      "source": [
        "---\n",
        "\n",
        "<br/>\n",
        "\n",
        "<br/>\n",
        "\n",
        "<br/>\n",
        "\n",
        "<br/>\n",
        "\n",
        "<br/>\n",
        "\n",
        "<br/>\n",
        "\n",
        "<br/>\n",
        "\n",
        "<br/>\n",
        "\n",
        "<br/>\n",
        "\n",
        "<br/>\n",
        "\n",
        "<br/>\n",
        "\n",
        "<br/>\n",
        "\n",
        "<br/>\n",
        "\n",
        "<br/>\n",
        "\n",
        "<br/>\n",
        "\n",
        "<br/>\n",
        "\n",
        "<br/>\n",
        "\n",
        "<br/>\n",
        "\n",
        "<br/>\n",
        "\n",
        "<br/>\n",
        "\n",
        "<br/>\n",
        "\n",
        "<br/>\n",
        "\n",
        "<br/>\n",
        "\n",
        "<br/>\n",
        "\n",
        "<br/>\n",
        "\n",
        "<br/>\n",
        "\n",
        "<br/>\n",
        "\n",
        "<br/>\n",
        "\n",
        "<br/>\n",
        "\n",
        "<br/>\n",
        "\n",
        "<br/>\n",
        "\n",
        "<br/>\n",
        "\n",
        "<br/>\n",
        "\n",
        "<br/>\n",
        "\n",
        "<br/>\n",
        "\n",
        "<br/>\n",
        "\n",
        "<br/>\n",
        "\n",
        "<br/>\n",
        "\n",
        "<br/>\n",
        "\n",
        "<br/>\n",
        "\n",
        "<br/>\n",
        "\n",
        "<br/>\n",
        "\n",
        "<br/>\n",
        "\n",
        "<br/>\n",
        "\n",
        "<br/>\n",
        "\n",
        "<br/>\n",
        "\n",
        "<br/>\n",
        "\n",
        "<br/>\n",
        "\n",
        "My answer..."
      ]
    },
    {
      "cell_type": "code",
      "execution_count": null,
      "metadata": {
        "id": "23psEQMAxFjf"
      },
      "outputs": [],
      "source": [
        "# The average, or mean, is simply the sum of the numbers to\n",
        "# be averaged, divided by the total number of numbers.\n",
        "avg = (1 + 2 + 3 + 4 + 5) / 5\n",
        "print(avg)"
      ]
    },
    {
      "cell_type": "markdown",
      "metadata": {
        "id": "izPWcLS3wvVs"
      },
      "source": [
        "## Activity 2\n",
        "\n",
        "You may have noticed that we can use the print command to print things out. For example, I could print out my name via,\n",
        "\n",
        "```\n",
        "print(\"Hafeez\")\n",
        "```\n",
        "\n",
        "Notice when writing text, I must enclose the text in double qoutes. But when I want to print out numbers, I can just do something like,\n",
        "\n",
        "```\n",
        "print(5)\n",
        "print(5+2)\n",
        "```\n",
        "Can you write some code that print's out you name, but in giant letters. For instance,\n",
        "\n",
        "```\n",
        "*****  *****  *****\n",
        "*   *  *   *  *   *\n",
        "*****  *   *  ****\n",
        "* *    *   *  *  *\n",
        "*  *   *   *  *   *\n",
        "*   *  *****  *****\n",
        "```\n",
        "\n",
        "But please don't comment on my artistry :)"
      ]
    },
    {
      "cell_type": "code",
      "execution_count": null,
      "metadata": {
        "id": "FwrElq8_wvVw"
      },
      "outputs": [],
      "source": [
        "# Your awesome code here.\n"
      ]
    },
    {
      "cell_type": "markdown",
      "metadata": {
        "id": "dGnVARQywvVw"
      },
      "source": [
        "---\n",
        "\n",
        "<br/>\n",
        "\n",
        "<br/>\n",
        "\n",
        "<br/>\n",
        "\n",
        "<br/>\n",
        "\n",
        "<br/>\n",
        "\n",
        "<br/>\n",
        "\n",
        "<br/>\n",
        "\n",
        "<br/>\n",
        "\n",
        "<br/>\n",
        "\n",
        "<br/>\n",
        "\n",
        "<br/>\n",
        "\n",
        "<br/>\n",
        "\n",
        "<br/>\n",
        "\n",
        "<br/>\n",
        "\n",
        "<br/>\n",
        "\n",
        "<br/>\n",
        "\n",
        "<br/>\n",
        "\n",
        "<br/>\n",
        "\n",
        "<br/>\n",
        "\n",
        "<br/>\n",
        "\n",
        "<br/>\n",
        "\n",
        "<br/>\n",
        "\n",
        "<br/>\n",
        "\n",
        "<br/>\n",
        "\n",
        "<br/>\n",
        "\n",
        "<br/>\n",
        "\n",
        "<br/>\n",
        "\n",
        "<br/>\n",
        "\n",
        "<br/>\n",
        "\n",
        "<br/>\n",
        "\n",
        "<br/>\n",
        "\n",
        "<br/>\n",
        "\n",
        "<br/>\n",
        "\n",
        "<br/>\n",
        "\n",
        "<br/>\n",
        "\n",
        "<br/>\n",
        "\n",
        "<br/>\n",
        "\n",
        "<br/>\n",
        "\n",
        "<br/>\n",
        "\n",
        "<br/>\n",
        "\n",
        "<br/>\n",
        "\n",
        "<br/>\n",
        "\n",
        "<br/>\n",
        "\n",
        "<br/>\n",
        "\n",
        "<br/>\n",
        "\n",
        "<br/>\n",
        "\n",
        "<br/>\n",
        "\n",
        "<br/>\n",
        "\n",
        "Answer..."
      ]
    },
    {
      "cell_type": "code",
      "execution_count": null,
      "metadata": {
        "id": "i-K1SQSewvVx"
      },
      "outputs": [],
      "source": [
        "print(\"*****  *****  *****\")\n",
        "print(\"*   *  *   *  *   *\")\n",
        "print(\"*****  *   *  ****\")\n",
        "print(\"* *    *   *  *  *\")\n",
        "print(\"*  *   *   *  *   *\")\n",
        "print(\"*   *  *****  *****\")"
      ]
    },
    {
      "cell_type": "markdown",
      "metadata": {
        "id": "RogxcFxTyFT7"
      },
      "source": [
        "## Activity 3\n",
        "\n",
        "How about math - can you do some math? For instance, if I said that Pythagoras' Theorem statated that $A^{2}+B^{2}=C^{2}$, and if I said $A=5$ and $B=6$ then can you work out $C^{2}$ in code? Could you also print out the result for me?\n",
        "\n",
        "<br/>\n",
        "\n",
        "As a hint it may be helpful to know that we can use the ```print``` command to print out multiple values. We can do this by separating them with commas. For example,\n",
        "\n",
        "```\n",
        "print(\"Hi \", \"there \", \"visit \" , \"day \", \"folks... \", 4, 5, 6)\n",
        "```\n",
        "\n",
        "Would print out:\n",
        "\n",
        "```\n",
        "Hi there visit day folks... 456\n",
        "```"
      ]
    },
    {
      "cell_type": "code",
      "execution_count": null,
      "metadata": {
        "id": "ULj227KlyFUH"
      },
      "outputs": [],
      "source": [
        "# Your awesome code here.\n"
      ]
    },
    {
      "cell_type": "markdown",
      "metadata": {
        "id": "FRbG5UPeyFUI"
      },
      "source": [
        "---\n",
        "\n",
        "<br/>\n",
        "\n",
        "<br/>\n",
        "\n",
        "<br/>\n",
        "\n",
        "<br/>\n",
        "\n",
        "<br/>\n",
        "\n",
        "<br/>\n",
        "\n",
        "<br/>\n",
        "\n",
        "<br/>\n",
        "\n",
        "<br/>\n",
        "\n",
        "<br/>\n",
        "\n",
        "<br/>\n",
        "\n",
        "<br/>\n",
        "\n",
        "<br/>\n",
        "\n",
        "<br/>\n",
        "\n",
        "<br/>\n",
        "\n",
        "<br/>\n",
        "\n",
        "<br/>\n",
        "\n",
        "<br/>\n",
        "\n",
        "<br/>\n",
        "\n",
        "<br/>\n",
        "\n",
        "<br/>\n",
        "\n",
        "<br/>\n",
        "\n",
        "<br/>\n",
        "\n",
        "<br/>\n",
        "\n",
        "<br/>\n",
        "\n",
        "<br/>\n",
        "\n",
        "<br/>\n",
        "\n",
        "<br/>\n",
        "\n",
        "<br/>\n",
        "\n",
        "<br/>\n",
        "\n",
        "<br/>\n",
        "\n",
        "<br/>\n",
        "\n",
        "<br/>\n",
        "\n",
        "<br/>\n",
        "\n",
        "<br/>\n",
        "\n",
        "<br/>\n",
        "\n",
        "<br/>\n",
        "\n",
        "<br/>\n",
        "\n",
        "<br/>\n",
        "\n",
        "<br/>\n",
        "\n",
        "<br/>\n",
        "\n",
        "<br/>\n",
        "\n",
        "<br/>\n",
        "\n",
        "<br/>\n",
        "\n",
        "<br/>\n",
        "\n",
        "<br/>\n",
        "\n",
        "<br/>\n",
        "\n",
        "<br/>\n",
        "\n",
        "My answer..."
      ]
    },
    {
      "cell_type": "code",
      "execution_count": null,
      "metadata": {
        "id": "KpqbwVDlyFUI"
      },
      "outputs": [],
      "source": [
        "A = 5\n",
        "B = 6\n",
        "C_squared = (A * A) + (B * B)\n",
        "print(\"C squared = \", C_squared)"
      ]
    },
    {
      "cell_type": "markdown",
      "metadata": {
        "id": "ezqlSHRz0mLs"
      },
      "source": [
        "## Activity 4\n",
        "\n",
        "The circumfrance $C$ of a circle, is given by the formula $C = 2\\pi r$. \n",
        "\n",
        "<br/>\n",
        "\n",
        "If the circule has a radius $r = 6.3$ then what is $C$?\n",
        "\n",
        "<br/>\n",
        "\n",
        "Compute the answer and print it out below.\n"
      ]
    },
    {
      "cell_type": "code",
      "execution_count": null,
      "metadata": {
        "id": "lDV9g50Z0mLx"
      },
      "outputs": [],
      "source": [
        "# Your awesome code here.\n"
      ]
    },
    {
      "cell_type": "markdown",
      "metadata": {
        "id": "tuxbJBP60mLx"
      },
      "source": [
        "---\n",
        "\n",
        "<br/>\n",
        "\n",
        "<br/>\n",
        "\n",
        "<br/>\n",
        "\n",
        "<br/>\n",
        "\n",
        "<br/>\n",
        "\n",
        "<br/>\n",
        "\n",
        "<br/>\n",
        "\n",
        "<br/>\n",
        "\n",
        "<br/>\n",
        "\n",
        "<br/>\n",
        "\n",
        "<br/>\n",
        "\n",
        "<br/>\n",
        "\n",
        "<br/>\n",
        "\n",
        "<br/>\n",
        "\n",
        "<br/>\n",
        "\n",
        "<br/>\n",
        "\n",
        "<br/>\n",
        "\n",
        "<br/>\n",
        "\n",
        "<br/>\n",
        "\n",
        "<br/>\n",
        "\n",
        "<br/>\n",
        "\n",
        "<br/>\n",
        "\n",
        "<br/>\n",
        "\n",
        "<br/>\n",
        "\n",
        "<br/>\n",
        "\n",
        "<br/>\n",
        "\n",
        "<br/>\n",
        "\n",
        "<br/>\n",
        "\n",
        "<br/>\n",
        "\n",
        "<br/>\n",
        "\n",
        "<br/>\n",
        "\n",
        "<br/>\n",
        "\n",
        "<br/>\n",
        "\n",
        "<br/>\n",
        "\n",
        "<br/>\n",
        "\n",
        "<br/>\n",
        "\n",
        "<br/>\n",
        "\n",
        "<br/>\n",
        "\n",
        "<br/>\n",
        "\n",
        "<br/>\n",
        "\n",
        "<br/>\n",
        "\n",
        "<br/>\n",
        "\n",
        "<br/>\n",
        "\n",
        "<br/>\n",
        "\n",
        "<br/>\n",
        "\n",
        "<br/>\n",
        "\n",
        "<br/>\n",
        "\n",
        "<br/>\n",
        "\n",
        "My answer..."
      ]
    },
    {
      "cell_type": "code",
      "execution_count": null,
      "metadata": {
        "id": "g_xa2WN10mLx"
      },
      "outputs": [],
      "source": [
        "pi = 3.14159\n",
        "r = 6.3\n",
        "C = 2 * pi * r\n",
        "print(\"C = \", C)"
      ]
    },
    {
      "cell_type": "markdown",
      "metadata": {
        "id": "fTSd0HJ10pDC"
      },
      "source": [
        "## Activity 5 - if you dare...\n",
        "\n",
        "Maybe for some of you, the questions above are too easy - perhaps you've done some coding already. At Edge Hill we do like to challenge students - you are here to learn and be challenged. If you were in my class and got cocky :P then I'd ask you to say, code up a complex data structure or something similar. I don't want to put you off, but I'll give you a problem that shows that we can and will challenge you to improve :D\n",
        "\n",
        "<br/>\n",
        "\n",
        "For the first n natural integers (whole numbers), compute the sum of those numbers, but where each number is multiplied by the one to the right of it, and divided by the number to the left of it - in that order. Assume $n=62$ for testing. In other words, the numbers from 1 to and including 62. If the divisor is zero, then simply do not divide the number.\n"
      ]
    },
    {
      "cell_type": "code",
      "execution_count": null,
      "metadata": {
        "id": "d0NmgAQx0pDD"
      },
      "outputs": [],
      "source": [
        "# Your awesome code here.\n"
      ]
    },
    {
      "cell_type": "markdown",
      "metadata": {
        "id": "g8Jc4nm40pDD"
      },
      "source": [
        "---\n",
        "\n",
        "<br/>\n",
        "\n",
        "<br/>\n",
        "\n",
        "<br/>\n",
        "\n",
        "<br/>\n",
        "\n",
        "<br/>\n",
        "\n",
        "<br/>\n",
        "\n",
        "<br/>\n",
        "\n",
        "<br/>\n",
        "\n",
        "<br/>\n",
        "\n",
        "<br/>\n",
        "\n",
        "<br/>\n",
        "\n",
        "<br/>\n",
        "\n",
        "<br/>\n",
        "\n",
        "<br/>\n",
        "\n",
        "<br/>\n",
        "\n",
        "<br/>\n",
        "\n",
        "<br/>\n",
        "\n",
        "<br/>\n",
        "\n",
        "<br/>\n",
        "\n",
        "<br/>\n",
        "\n",
        "<br/>\n",
        "\n",
        "<br/>\n",
        "\n",
        "<br/>\n",
        "\n",
        "<br/>\n",
        "\n",
        "<br/>\n",
        "\n",
        "<br/>\n",
        "\n",
        "<br/>\n",
        "\n",
        "<br/>\n",
        "\n",
        "<br/>\n",
        "\n",
        "<br/>\n",
        "\n",
        "<br/>\n",
        "\n",
        "<br/>\n",
        "\n",
        "<br/>\n",
        "\n",
        "<br/>\n",
        "\n",
        "<br/>\n",
        "\n",
        "<br/>\n",
        "\n",
        "<br/>\n",
        "\n",
        "<br/>\n",
        "\n",
        "<br/>\n",
        "\n",
        "<br/>\n",
        "\n",
        "<br/>\n",
        "\n",
        "<br/>\n",
        "\n",
        "<br/>\n",
        "\n",
        "<br/>\n",
        "\n",
        "<br/>\n",
        "\n",
        "<br/>\n",
        "\n",
        "<br/>\n",
        "\n",
        "<br/>\n",
        "\n",
        "My answer..."
      ]
    },
    {
      "cell_type": "code",
      "execution_count": null,
      "metadata": {
        "id": "Rns94bW_0pDE"
      },
      "outputs": [],
      "source": [
        "n = 62\n",
        "sum = 0\n",
        "for i in range(1,n + 1):\n",
        "\n",
        "  # Check for divide by zero.\n",
        "  if (i-1) > 0:\n",
        "     # Because i+1 gives the number to the right, i-1 to the left.\n",
        "    sum += (i * (i+1)) / (i - 1)\n",
        "  else:\n",
        "    sum += (i * (i+1))\n",
        "\n",
        "print(\"Sum: \", sum)"
      ]
    },
    {
      "cell_type": "markdown",
      "metadata": {
        "id": "R949PTJ84LTE"
      },
      "source": [
        "## Activity 6 - extending the lsat problem...\n",
        "\n",
        "Extend your solution to activity 5 as follows - only add numbers to the sum if their first digit is even.\n"
      ]
    },
    {
      "cell_type": "code",
      "execution_count": null,
      "metadata": {
        "id": "gmtsZkVF4LTQ"
      },
      "outputs": [],
      "source": [
        "# Your awesome code here.\n"
      ]
    },
    {
      "cell_type": "markdown",
      "metadata": {
        "id": "RzEuvSzv4LTR"
      },
      "source": [
        "---\n",
        "\n",
        "<br/>\n",
        "\n",
        "<br/>\n",
        "\n",
        "<br/>\n",
        "\n",
        "<br/>\n",
        "\n",
        "<br/>\n",
        "\n",
        "<br/>\n",
        "\n",
        "<br/>\n",
        "\n",
        "<br/>\n",
        "\n",
        "<br/>\n",
        "\n",
        "<br/>\n",
        "\n",
        "<br/>\n",
        "\n",
        "<br/>\n",
        "\n",
        "<br/>\n",
        "\n",
        "<br/>\n",
        "\n",
        "<br/>\n",
        "\n",
        "<br/>\n",
        "\n",
        "<br/>\n",
        "\n",
        "<br/>\n",
        "\n",
        "<br/>\n",
        "\n",
        "<br/>\n",
        "\n",
        "<br/>\n",
        "\n",
        "<br/>\n",
        "\n",
        "<br/>\n",
        "\n",
        "<br/>\n",
        "\n",
        "<br/>\n",
        "\n",
        "<br/>\n",
        "\n",
        "<br/>\n",
        "\n",
        "<br/>\n",
        "\n",
        "<br/>\n",
        "\n",
        "<br/>\n",
        "\n",
        "<br/>\n",
        "\n",
        "<br/>\n",
        "\n",
        "<br/>\n",
        "\n",
        "<br/>\n",
        "\n",
        "<br/>\n",
        "\n",
        "<br/>\n",
        "\n",
        "<br/>\n",
        "\n",
        "<br/>\n",
        "\n",
        "<br/>\n",
        "\n",
        "<br/>\n",
        "\n",
        "<br/>\n",
        "\n",
        "<br/>\n",
        "\n",
        "<br/>\n",
        "\n",
        "<br/>\n",
        "\n",
        "<br/>\n",
        "\n",
        "<br/>\n",
        "\n",
        "<br/>\n",
        "\n",
        "<br/>\n",
        "\n",
        "My answer..."
      ]
    },
    {
      "cell_type": "code",
      "execution_count": null,
      "metadata": {
        "id": "2Ca7zZll4LTR"
      },
      "outputs": [],
      "source": [
        "n = 62\n",
        "sum = 0\n",
        "for i in range(1, n + 1):\n",
        "\n",
        "  # Check for divide by zero.\n",
        "  if (i-1) > 0:\n",
        "\n",
        "     # Because i+1 gives the number to the right, i-1 to the left.\n",
        "     value = (i * i+1) / (i - 1)\n",
        "\n",
        "     # Convert number into text.\n",
        "     text_version = str(value)\n",
        "\n",
        "     # get the first digit in the text, convert into a number.\n",
        "     first_digit = int(text_version[0])\n",
        "\n",
        "     # If the digit can be divided by two\n",
        "     even = first_digit % 2 == 0\n",
        "\n",
        "     if even:\n",
        "      sum += value\n",
        "\n",
        "  else:\n",
        "\n",
        "     value = (i * i+1)\n",
        "\n",
        "     # Convert number into text.\n",
        "     text_version = str(value)\n",
        "\n",
        "     # get the first digit in the text, convert into a number.\n",
        "     first_digit = int(text_version[0])\n",
        "\n",
        "     # If the digit can be divided by two\n",
        "     even = first_digit % 2 == 0\n",
        "     \n",
        "     if even:\n",
        "      sum += value\n",
        "\n",
        "print(\"Sum: \", sum)"
      ]
    },
    {
      "cell_type": "markdown",
      "metadata": {
        "id": "ZH2Ufh_dxaY4"
      },
      "source": [
        "At this point I invite you to experiment writing your own basic code that solves simple math problems.\n",
        "\n",
        "---"
      ]
    }
  ],
  "metadata": {
    "colab": {
      "collapsed_sections": [],
      "name": "ApplicantVisitDay.ipynb",
      "provenance": []
    },
    "kernelspec": {
      "display_name": "Python 3",
      "name": "python3"
    }
  },
  "nbformat": 4,
  "nbformat_minor": 0
}
